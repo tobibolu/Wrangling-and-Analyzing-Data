{
 "cells": [
  {
   "cell_type": "markdown",
   "metadata": {},
   "source": [
    "# Your only source for Professional Dog Ratings"
   ]
  },
  {
   "cell_type": "markdown",
   "metadata": {},
   "source": [
    "Have you ever wondered where you could go to get your cute (or naughty) dog rated by a seasoned professional? \n",
    "\n",
    "If you have then you're in the right place! Your life long search has come to an end! The [We Rate Dogs](https://twitter.com/dog_rates) Twitter profile is 'like the title says' your only source for professional dog ratings!\n",
    "\n",
    "I have carried out some fun analysis on the We Rate dogs Twitter archive to provide some insights and visualizations that could be useful for anyone interested"
   ]
  },
  {
   "cell_type": "markdown",
   "metadata": {},
   "source": [
    "## Most Common Dog Types"
   ]
  },
  {
   "cell_type": "markdown",
   "metadata": {},
   "source": [
    "The top five most common dog types in the dataset are as shown in the visualization below. Fun fact! These dog types were predicted from their images using a neural network! Isn't is amazing what we can get up to with technology these days?\n",
    "\n",
    "![dogs](https://viewf6b31853.udacity-student-workspaces.com/files/dogtypes.jpg)\n",
    "\n",
    "\n",
    "\n",
    "\n",
    "\n"
   ]
  },
  {
   "cell_type": "markdown",
   "metadata": {},
   "source": [
    "We can see above that the golden retriever is by far the most popular dog type and who could argue with that when they look so cute!!!\n",
    "\n",
    "![title](https://pbs.twimg.com/media/DELC9dZXUAADqUk.jpg)"
   ]
  },
  {
   "cell_type": "markdown",
   "metadata": {},
   "source": [
    "## Relationship between Favorites and Retweets"
   ]
  },
  {
   "cell_type": "markdown",
   "metadata": {},
   "source": [
    "![corr](https://viewf6b31853.udacity-student-workspaces.com/files/favrt.jpg)\n",
    "\n"
   ]
  },
  {
   "cell_type": "markdown",
   "metadata": {},
   "source": [
    "We can see from the image above that there is a positive correlation between favorites and retweets, i.e the more favorites a tweet has the more retweets it is also likely to have"
   ]
  },
  {
   "cell_type": "markdown",
   "metadata": {},
   "source": [
    "I have also gathered from the data that the average dog rating is 10.54! That is what makes WeRateDogs special! No dog should have to be rated below a 10 now, after all \"They're good dogs Brent!\""
   ]
  },
  {
   "cell_type": "markdown",
   "metadata": {},
   "source": [
    "In conclusion it was a really good experience wrangling and analyzing this dataset and I hope you enjoy reading this blog post!"
   ]
  }
 ],
 "metadata": {
  "kernelspec": {
   "display_name": "Python 3",
   "language": "python",
   "name": "python3"
  },
  "language_info": {
   "codemirror_mode": {
    "name": "ipython",
    "version": 3
   },
   "file_extension": ".py",
   "mimetype": "text/x-python",
   "name": "python",
   "nbconvert_exporter": "python",
   "pygments_lexer": "ipython3",
   "version": "3.6.3"
  }
 },
 "nbformat": 4,
 "nbformat_minor": 2
}
